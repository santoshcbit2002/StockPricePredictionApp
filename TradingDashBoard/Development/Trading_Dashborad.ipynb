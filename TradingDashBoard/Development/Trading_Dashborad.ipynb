{
 "cells": [
  {
   "cell_type": "code",
   "execution_count": 318,
   "metadata": {},
   "outputs": [
    {
     "name": "stderr",
     "output_type": "stream",
     "text": [
      "Using TensorFlow backend.\n"
     ]
    }
   ],
   "source": [
    "# Data Handling\n",
    "import pandas as pd\n",
    "import numpy as np\n",
    "import datetime as dt\n",
    "import warnings\n",
    "import os\n",
    "from numpy.random import seed\n",
    "\n",
    "# Visualization\n",
    "from IPython.display import display\n",
    "import matplotlib.pyplot as plt\n",
    "import seaborn as sns\n",
    "\n",
    "#PCA\n",
    "from sklearn.decomposition import PCA\n",
    "from sklearn.decomposition import IncrementalPCA\n",
    "\n",
    "\n",
    "# Load specific forecasting tools \n",
    "from sklearn.preprocessing import MinMaxScaler\n",
    "from sklearn.linear_model import LinearRegression\n",
    "from keras.preprocessing.sequence import TimeseriesGenerator\n",
    "from keras.callbacks import ModelCheckpoint, ReduceLROnPlateau, Callback, History, EarlyStopping\n",
    "\n",
    "from keras.models import Sequential, Model , load_model\n",
    "from keras.layers import Dense, LSTM, GRU, Flatten, BatchNormalization, Activation, Dropout, TimeDistributed\n",
    "from keras.layers.convolutional import Conv1D, MaxPooling1D,Conv2D, MaxPooling2D\n",
    "from keras.callbacks import ModelCheckpoint, ReduceLROnPlateau, CSVLogger, Callback, History, EarlyStopping\n",
    "from keras import optimizers, regularizers\n",
    "\n",
    "from sklearn.preprocessing import MinMaxScaler\n",
    "from sklearn.model_selection import train_test_split\n",
    "from sklearn.metrics import mean_squared_error,mean_absolute_error"
   ]
  },
  {
   "cell_type": "code",
   "execution_count": 62,
   "metadata": {},
   "outputs": [
    {
     "name": "stdout",
     "output_type": "stream",
     "text": [
      "CNN2D_pred_dumps.npy  C_LSTM_test_dumps.npy LSTM_pred_dumps.npy\r\n",
      "CNN2D_test_dumps.npy  GRU_pred_dumps.npy    LSTM_test_dumps.npy\r\n",
      "C_LSTM_pred_dumps.npy GRU_test_dumps.npy    dates_dump.npy\r\n"
     ]
    }
   ],
   "source": [
    "!ls ../App/Predictions"
   ]
  },
  {
   "cell_type": "markdown",
   "metadata": {},
   "source": [
    "# Data Split investigation"
   ]
  },
  {
   "cell_type": "code",
   "execution_count": 55,
   "metadata": {},
   "outputs": [],
   "source": [
    "data=pd.read_csv('../App/Data/Cleaned_data_lloyds.csv')"
   ]
  },
  {
   "cell_type": "code",
   "execution_count": 56,
   "metadata": {},
   "outputs": [
    {
     "name": "stdout",
     "output_type": "stream",
     "text": [
      "Shape of Training data:  (2588, 32)\n"
     ]
    }
   ],
   "source": [
    "data_train, data_val = train_test_split(data, train_size=0.90, test_size=0.10, shuffle=False)\n",
    "print('Shape of Training data: ',data_train.shape)"
   ]
  },
  {
   "cell_type": "code",
   "execution_count": 57,
   "metadata": {},
   "outputs": [
    {
     "name": "stdout",
     "output_type": "stream",
     "text": [
      "Shape of Training data:  (288, 32)\n"
     ]
    }
   ],
   "source": [
    "print('Shape of Training data: ',data_val.shape)"
   ]
  },
  {
   "cell_type": "code",
   "execution_count": 58,
   "metadata": {},
   "outputs": [
    {
     "name": "stdout",
     "output_type": "stream",
     "text": [
      "230\n",
      "58\n"
     ]
    }
   ],
   "source": [
    "val_count=int(data_val.shape[0]*0.8)\n",
    "test_count=data_val.shape[0]-val_count\n",
    "print(val_count)\n",
    "print(test_count)"
   ]
  },
  {
   "cell_type": "code",
   "execution_count": 59,
   "metadata": {},
   "outputs": [],
   "source": [
    "data_test=data_val[val_count:][:]\n",
    "data_val=data_val[:val_count][:]"
   ]
  },
  {
   "cell_type": "code",
   "execution_count": 60,
   "metadata": {},
   "outputs": [
    {
     "data": {
      "text/html": [
       "<div>\n",
       "<style scoped>\n",
       "    .dataframe tbody tr th:only-of-type {\n",
       "        vertical-align: middle;\n",
       "    }\n",
       "\n",
       "    .dataframe tbody tr th {\n",
       "        vertical-align: top;\n",
       "    }\n",
       "\n",
       "    .dataframe thead th {\n",
       "        text-align: right;\n",
       "    }\n",
       "</style>\n",
       "<table border=\"1\" class=\"dataframe\">\n",
       "  <thead>\n",
       "    <tr style=\"text-align: right;\">\n",
       "      <th></th>\n",
       "      <th>Date</th>\n",
       "      <th>Lloyds_Open</th>\n",
       "      <th>Lloyds_High</th>\n",
       "      <th>Lloyds_Low</th>\n",
       "      <th>Lloyds_Close</th>\n",
       "      <th>Volume</th>\n",
       "      <th>SMA_10</th>\n",
       "      <th>WMA_10</th>\n",
       "      <th>rsi</th>\n",
       "      <th>stoc_k</th>\n",
       "      <th>...</th>\n",
       "      <th>Oil_High</th>\n",
       "      <th>Oil_Low</th>\n",
       "      <th>Oil_Volume</th>\n",
       "      <th>FTSE_Price</th>\n",
       "      <th>FTSE_Open</th>\n",
       "      <th>FTSE_High</th>\n",
       "      <th>FTSE_Low</th>\n",
       "      <th>Weekday</th>\n",
       "      <th>Month</th>\n",
       "      <th>Year</th>\n",
       "    </tr>\n",
       "  </thead>\n",
       "  <tbody>\n",
       "    <tr>\n",
       "      <th>2874</th>\n",
       "      <td>2020-08-26</td>\n",
       "      <td>28.18</td>\n",
       "      <td>28.560</td>\n",
       "      <td>28.03</td>\n",
       "      <td>28.475</td>\n",
       "      <td>91481211.0</td>\n",
       "      <td>28.511</td>\n",
       "      <td>28.397364</td>\n",
       "      <td>48.050768</td>\n",
       "      <td>2.230276</td>\n",
       "      <td>...</td>\n",
       "      <td>46.10</td>\n",
       "      <td>45.54</td>\n",
       "      <td>132510.0</td>\n",
       "      <td>6045.60</td>\n",
       "      <td>6037.01</td>\n",
       "      <td>6050.81</td>\n",
       "      <td>5992.22</td>\n",
       "      <td>2</td>\n",
       "      <td>8</td>\n",
       "      <td>2020</td>\n",
       "    </tr>\n",
       "    <tr>\n",
       "      <th>2875</th>\n",
       "      <td>2020-08-27</td>\n",
       "      <td>28.32</td>\n",
       "      <td>28.595</td>\n",
       "      <td>28.08</td>\n",
       "      <td>28.200</td>\n",
       "      <td>94257788.0</td>\n",
       "      <td>28.413</td>\n",
       "      <td>28.340818</td>\n",
       "      <td>44.811213</td>\n",
       "      <td>1.872695</td>\n",
       "      <td>...</td>\n",
       "      <td>45.87</td>\n",
       "      <td>44.56</td>\n",
       "      <td>102260.0</td>\n",
       "      <td>5999.99</td>\n",
       "      <td>6045.60</td>\n",
       "      <td>6062.52</td>\n",
       "      <td>5999.99</td>\n",
       "      <td>3</td>\n",
       "      <td>8</td>\n",
       "      <td>2020</td>\n",
       "    </tr>\n",
       "  </tbody>\n",
       "</table>\n",
       "<p>2 rows × 32 columns</p>\n",
       "</div>"
      ],
      "text/plain": [
       "            Date  Lloyds_Open  Lloyds_High  Lloyds_Low  Lloyds_Close  \\\n",
       "2874  2020-08-26        28.18       28.560       28.03        28.475   \n",
       "2875  2020-08-27        28.32       28.595       28.08        28.200   \n",
       "\n",
       "          Volume  SMA_10     WMA_10        rsi    stoc_k  ...  Oil_High  \\\n",
       "2874  91481211.0  28.511  28.397364  48.050768  2.230276  ...     46.10   \n",
       "2875  94257788.0  28.413  28.340818  44.811213  1.872695  ...     45.87   \n",
       "\n",
       "      Oil_Low  Oil_Volume  FTSE_Price  FTSE_Open  FTSE_High  FTSE_Low  \\\n",
       "2874    45.54    132510.0     6045.60    6037.01    6050.81   5992.22   \n",
       "2875    44.56    102260.0     5999.99    6045.60    6062.52   5999.99   \n",
       "\n",
       "      Weekday  Month  Year  \n",
       "2874        2      8  2020  \n",
       "2875        3      8  2020  \n",
       "\n",
       "[2 rows x 32 columns]"
      ]
     },
     "execution_count": 60,
     "metadata": {},
     "output_type": "execute_result"
    }
   ],
   "source": [
    "data_test.tail(2)"
   ]
  },
  {
   "cell_type": "code",
   "execution_count": 61,
   "metadata": {},
   "outputs": [
    {
     "data": {
      "text/html": [
       "<div>\n",
       "<style scoped>\n",
       "    .dataframe tbody tr th:only-of-type {\n",
       "        vertical-align: middle;\n",
       "    }\n",
       "\n",
       "    .dataframe tbody tr th {\n",
       "        vertical-align: top;\n",
       "    }\n",
       "\n",
       "    .dataframe thead th {\n",
       "        text-align: right;\n",
       "    }\n",
       "</style>\n",
       "<table border=\"1\" class=\"dataframe\">\n",
       "  <thead>\n",
       "    <tr style=\"text-align: right;\">\n",
       "      <th></th>\n",
       "      <th>Date</th>\n",
       "      <th>Lloyds_Open</th>\n",
       "      <th>Lloyds_High</th>\n",
       "      <th>Lloyds_Low</th>\n",
       "      <th>Lloyds_Close</th>\n",
       "      <th>Volume</th>\n",
       "      <th>SMA_10</th>\n",
       "      <th>WMA_10</th>\n",
       "      <th>rsi</th>\n",
       "      <th>stoc_k</th>\n",
       "      <th>...</th>\n",
       "      <th>Oil_High</th>\n",
       "      <th>Oil_Low</th>\n",
       "      <th>Oil_Volume</th>\n",
       "      <th>FTSE_Price</th>\n",
       "      <th>FTSE_Open</th>\n",
       "      <th>FTSE_High</th>\n",
       "      <th>FTSE_Low</th>\n",
       "      <th>Weekday</th>\n",
       "      <th>Month</th>\n",
       "      <th>Year</th>\n",
       "    </tr>\n",
       "  </thead>\n",
       "  <tbody>\n",
       "    <tr>\n",
       "      <th>2816</th>\n",
       "      <td>2020-06-05</td>\n",
       "      <td>34.51</td>\n",
       "      <td>35.96</td>\n",
       "      <td>34.21</td>\n",
       "      <td>35.545</td>\n",
       "      <td>457376990.0</td>\n",
       "      <td>31.724</td>\n",
       "      <td>32.686364</td>\n",
       "      <td>71.332269</td>\n",
       "      <td>79.479797</td>\n",
       "      <td>...</td>\n",
       "      <td>42.48</td>\n",
       "      <td>39.72</td>\n",
       "      <td>250310.0</td>\n",
       "      <td>6484.30</td>\n",
       "      <td>6341.44</td>\n",
       "      <td>6489.99</td>\n",
       "      <td>6341.44</td>\n",
       "      <td>4</td>\n",
       "      <td>6</td>\n",
       "      <td>2020</td>\n",
       "    </tr>\n",
       "    <tr>\n",
       "      <th>2817</th>\n",
       "      <td>2020-06-08</td>\n",
       "      <td>35.20</td>\n",
       "      <td>38.12</td>\n",
       "      <td>35.00</td>\n",
       "      <td>36.880</td>\n",
       "      <td>513534214.0</td>\n",
       "      <td>32.600</td>\n",
       "      <td>33.623818</td>\n",
       "      <td>74.897191</td>\n",
       "      <td>86.646835</td>\n",
       "      <td>...</td>\n",
       "      <td>43.41</td>\n",
       "      <td>40.68</td>\n",
       "      <td>227880.0</td>\n",
       "      <td>6472.59</td>\n",
       "      <td>6484.30</td>\n",
       "      <td>6511.84</td>\n",
       "      <td>6423.06</td>\n",
       "      <td>0</td>\n",
       "      <td>6</td>\n",
       "      <td>2020</td>\n",
       "    </tr>\n",
       "  </tbody>\n",
       "</table>\n",
       "<p>2 rows × 32 columns</p>\n",
       "</div>"
      ],
      "text/plain": [
       "            Date  Lloyds_Open  Lloyds_High  Lloyds_Low  Lloyds_Close  \\\n",
       "2816  2020-06-05        34.51        35.96       34.21        35.545   \n",
       "2817  2020-06-08        35.20        38.12       35.00        36.880   \n",
       "\n",
       "           Volume  SMA_10     WMA_10        rsi     stoc_k  ...  Oil_High  \\\n",
       "2816  457376990.0  31.724  32.686364  71.332269  79.479797  ...     42.48   \n",
       "2817  513534214.0  32.600  33.623818  74.897191  86.646835  ...     43.41   \n",
       "\n",
       "      Oil_Low  Oil_Volume  FTSE_Price  FTSE_Open  FTSE_High  FTSE_Low  \\\n",
       "2816    39.72    250310.0     6484.30    6341.44    6489.99   6341.44   \n",
       "2817    40.68    227880.0     6472.59    6484.30    6511.84   6423.06   \n",
       "\n",
       "      Weekday  Month  Year  \n",
       "2816        4      6  2020  \n",
       "2817        0      6  2020  \n",
       "\n",
       "[2 rows x 32 columns]"
      ]
     },
     "execution_count": 61,
     "metadata": {},
     "output_type": "execute_result"
    }
   ],
   "source": [
    "data_val.tail(2)"
   ]
  },
  {
   "cell_type": "markdown",
   "metadata": {},
   "source": [
    "# Training data"
   ]
  },
  {
   "cell_type": "code",
   "execution_count": 66,
   "metadata": {},
   "outputs": [
    {
     "name": "stdout",
     "output_type": "stream",
     "text": [
      "40\n",
      "40\n",
      "58\n"
     ]
    }
   ],
   "source": [
    "# load files\n",
    "lstm_predictions=np.load('../App/Predictions/LSTM_pred_dumps.npy')\n",
    "lstm_test=np.load('../App/Predictions/LSTM_test_dumps.npy')\n",
    "dates_dump=np.load('../App/Predictions/dates_dump.npy')\n",
    "print(len(lstm_predictions))\n",
    "print(len(lstm_test))\n",
    "print(len(dates_dump))"
   ]
  },
  {
   "cell_type": "code",
   "execution_count": 67,
   "metadata": {},
   "outputs": [
    {
     "data": {
      "text/plain": [
       "array(['2020-06-09', '2020-06-10', '2020-06-11', '2020-06-12',\n",
       "       '2020-06-15', '2020-06-16', '2020-06-17', '2020-06-18',\n",
       "       '2020-06-19', '2020-06-22', '2020-06-23', '2020-06-24',\n",
       "       '2020-06-25', '2020-06-26', '2020-06-29', '2020-06-30',\n",
       "       '2020-07-01', '2020-07-02', '2020-07-03', '2020-07-06',\n",
       "       '2020-07-07', '2020-07-08', '2020-07-09', '2020-07-10',\n",
       "       '2020-07-13', '2020-07-14', '2020-07-15', '2020-07-16',\n",
       "       '2020-07-17', '2020-07-20', '2020-07-21', '2020-07-22',\n",
       "       '2020-07-23', '2020-07-24', '2020-07-27', '2020-07-28',\n",
       "       '2020-07-29', '2020-07-30', '2020-07-31', '2020-08-03',\n",
       "       '2020-08-04', '2020-08-05', '2020-08-06', '2020-08-07',\n",
       "       '2020-08-10', '2020-08-11', '2020-08-12', '2020-08-13',\n",
       "       '2020-08-14', '2020-08-17', '2020-08-18', '2020-08-19',\n",
       "       '2020-08-20', '2020-08-21', '2020-08-24', '2020-08-25',\n",
       "       '2020-08-26', '2020-08-27'], dtype=object)"
      ]
     },
     "execution_count": 67,
     "metadata": {},
     "output_type": "execute_result"
    }
   ],
   "source": [
    "dates_dump"
   ]
  },
  {
   "cell_type": "code",
   "execution_count": 68,
   "metadata": {},
   "outputs": [
    {
     "data": {
      "text/plain": [
       "array([32.745, 31.61 , 31.62 , 31.085, 31.255, 31.175, 30.7  , 31.85 ,\n",
       "       31.025, 31.205, 30.74 , 30.72 , 29.735, 30.455, 30.64 , 30.105,\n",
       "       30.385, 30.53 , 30.565, 30.41 , 30.505, 30.32 , 30.165, 29.695,\n",
       "       28.9  , 29.22 , 28.365, 26.205, 26.285, 27.87 , 28.155, 28.175,\n",
       "       28.16 , 27.785, 28.415, 29.455, 29.69 , 29.18 , 28.95 , 28.625])"
      ]
     },
     "execution_count": 68,
     "metadata": {},
     "output_type": "execute_result"
    }
   ],
   "source": [
    "lstm_test"
   ]
  },
  {
   "cell_type": "code",
   "execution_count": 69,
   "metadata": {},
   "outputs": [
    {
     "data": {
      "text/plain": [
       "array([[35.798782],\n",
       "       [35.99881 ],\n",
       "       [35.34692 ],\n",
       "       [34.854332],\n",
       "       [35.303   ],\n",
       "       [35.48644 ],\n",
       "       [35.45772 ],\n",
       "       [34.62003 ],\n",
       "       [35.891003],\n",
       "       [34.9252  ],\n",
       "       [35.198463],\n",
       "       [34.35942 ],\n",
       "       [34.652023],\n",
       "       [33.225594],\n",
       "       [34.61349 ],\n",
       "       [34.506702],\n",
       "       [34.48201 ],\n",
       "       [34.472683],\n",
       "       [34.789932],\n",
       "       [34.39409 ],\n",
       "       [34.98081 ],\n",
       "       [34.98548 ],\n",
       "       [34.14599 ],\n",
       "       [34.314507],\n",
       "       [32.630207],\n",
       "       [32.34559 ],\n",
       "       [33.371532],\n",
       "       [32.353844],\n",
       "       [29.827759],\n",
       "       [30.118423],\n",
       "       [31.649395],\n",
       "       [31.99806 ],\n",
       "       [32.527683],\n",
       "       [32.035847],\n",
       "       [31.726692],\n",
       "       [32.41353 ],\n",
       "       [33.561123],\n",
       "       [33.14961 ],\n",
       "       [33.091732],\n",
       "       [32.405014]], dtype=float32)"
      ]
     },
     "execution_count": 69,
     "metadata": {},
     "output_type": "execute_result"
    }
   ],
   "source": [
    "lstm_predictions"
   ]
  },
  {
   "cell_type": "markdown",
   "metadata": {},
   "source": [
    "# Automation to set Stocker Data "
   ]
  },
  {
   "cell_type": "code",
   "execution_count": 228,
   "metadata": {},
   "outputs": [],
   "source": [
    "import requests\n",
    "from bs4 import BeautifulSoup\n",
    "import re\n",
    "import datetime\n",
    "import pandas as pd\n",
    "from pandas.tseries.offsets import BDay"
   ]
  },
  {
   "cell_type": "code",
   "execution_count": 226,
   "metadata": {},
   "outputs": [
    {
     "name": "stdout",
     "output_type": "stream",
     "text": [
      "2020-08-30 17:36:24.542447\n",
      "2020-09-01 17:36:24.542447\n"
     ]
    }
   ],
   "source": [
    "today = pd.datetime.today()\n",
    "print(today)\n",
    "print(today + BDay(2))"
   ]
  },
  {
   "cell_type": "code",
   "execution_count": 218,
   "metadata": {},
   "outputs": [
    {
     "data": {
      "text/plain": [
       "'2020-08-30'"
      ]
     },
     "execution_count": 218,
     "metadata": {},
     "output_type": "execute_result"
    }
   ],
   "source": [
    "datetime.datetime.now().strftime('%Y-%m-%d')"
   ]
  },
  {
   "cell_type": "code",
   "execution_count": 232,
   "metadata": {},
   "outputs": [],
   "source": [
    "params = {\n",
    "  'access_key': '8231f84ca3b18528015548706c8bd76f',\n",
    "  #  'exchange':'XLON',\n",
    "    'symbols':'LLOY.XLON'\n",
    "\n",
    "}\n",
    "api_result=requests.get('http://api.marketstack.com/v1/eod/latest', params)\n",
    "date_str=api_result.json()['data'][0]['date']"
   ]
  },
  {
   "cell_type": "code",
   "execution_count": 235,
   "metadata": {},
   "outputs": [
    {
     "data": {
      "text/plain": [
       "'2020-08-28'"
      ]
     },
     "execution_count": 235,
     "metadata": {},
     "output_type": "execute_result"
    }
   ],
   "source": [
    "date_str[:10]"
   ]
  },
  {
   "cell_type": "code",
   "execution_count": 215,
   "metadata": {},
   "outputs": [
    {
     "data": {
      "text/plain": [
       "{'success': True,\n",
       " 'terms': 'https://currencylayer.com/terms',\n",
       " 'privacy': 'https://currencylayer.com/privacy',\n",
       " 'historical': True,\n",
       " 'date': '2020-08-27',\n",
       " 'timestamp': 1598572799,\n",
       " 'source': 'USD',\n",
       " 'quotes': {'USDAED': 3.673195,\n",
       "  'USDAFN': 77.01432,\n",
       "  'USDALL': 105.17487,\n",
       "  'USDAMD': 487.030492,\n",
       "  'USDANG': 1.795391,\n",
       "  'USDAOA': 593.337056,\n",
       "  'USDARS': 73.877504,\n",
       "  'USDAUD': 1.375648,\n",
       "  'USDAWG': 1.8,\n",
       "  'USDAZN': 1.701015,\n",
       "  'USDBAM': 1.656992,\n",
       "  'USDBBD': 2.019554,\n",
       "  'USDBDT': 84.80976,\n",
       "  'USDBGN': 1.65477,\n",
       "  'USDBHD': 0.376979,\n",
       "  'USDBIF': 1930.1975,\n",
       "  'USDBMD': 1,\n",
       "  'USDBND': 1.366652,\n",
       "  'USDBOB': 6.905967,\n",
       "  'USDBRL': 5.570198,\n",
       "  'USDBSD': 1.000216,\n",
       "  'USDBTC': 8.8391383e-05,\n",
       "  'USDBTN': 73.79032,\n",
       "  'USDBWP': 11.563148,\n",
       "  'USDBYN': 2.662566,\n",
       "  'USDBYR': 19600,\n",
       "  'USDBZD': 2.016038,\n",
       "  'USDCAD': 1.312245,\n",
       "  'USDCDF': 1949.999981,\n",
       "  'USDCHF': 0.9092,\n",
       "  'USDCLF': 0.028427,\n",
       "  'USDCLP': 784.399135,\n",
       "  'USDCNY': 6.890203,\n",
       "  'USDCOP': 3816.43,\n",
       "  'USDCRC': 595.61128,\n",
       "  'USDCUC': 1,\n",
       "  'USDCUP': 26.5,\n",
       "  'USDCVE': 93.41523,\n",
       "  'USDCZK': 22.23905,\n",
       "  'USDDJF': 177.719709,\n",
       "  'USDDKK': 6.29745,\n",
       "  'USDDOP': 58.452935,\n",
       "  'USDDZD': 128.23194,\n",
       "  'USDEGP': 15.872197,\n",
       "  'USDERN': 15.000032,\n",
       "  'USDETB': 36.10116,\n",
       "  'USDEUR': 0.846075,\n",
       "  'USDFJD': 2.120504,\n",
       "  'USDFKP': 0.757578,\n",
       "  'USDGBP': 0.75765,\n",
       "  'USDGEL': 3.089782,\n",
       "  'USDGGP': 0.757578,\n",
       "  'USDGHS': 5.771098,\n",
       "  'USDGIP': 0.757578,\n",
       "  'USDGMD': 51.803338,\n",
       "  'USDGNF': 9660.938997,\n",
       "  'USDGTQ': 7.70888,\n",
       "  'USDGYD': 209.10974,\n",
       "  'USDHKD': 7.75025,\n",
       "  'USDHNL': 24.665763,\n",
       "  'USDHRK': 6.368199,\n",
       "  'USDHTG': 112.23725,\n",
       "  'USDHUF': 301.394994,\n",
       "  'USDIDR': 14642.125,\n",
       "  'USDILS': 3.37643,\n",
       "  'USDIMP': 0.757578,\n",
       "  'USDINR': 73.77475,\n",
       "  'USDIQD': 1194.0288,\n",
       "  'USDIRR': 42105.000082,\n",
       "  'USDISK': 138.340212,\n",
       "  'USDJEP': 0.757578,\n",
       "  'USDJMD': 149.707696,\n",
       "  'USDJOD': 0.708976,\n",
       "  'USDJPY': 106.643027,\n",
       "  'USDKES': 108.200769,\n",
       "  'USDKGS': 78.436898,\n",
       "  'USDKHR': 4098.768977,\n",
       "  'USDKMF': 412.950272,\n",
       "  'USDKPW': 900.061606,\n",
       "  'USDKRW': 1187.580224,\n",
       "  'USDKWD': 0.30565,\n",
       "  'USDKYD': 0.833489,\n",
       "  'USDKZT': 419.81971,\n",
       "  'USDLAK': 9102.046024,\n",
       "  'USDLBP': 1512.295296,\n",
       "  'USDLKR': 186.068303,\n",
       "  'USDLRD': 199.298512,\n",
       "  'USDLSL': 17.350247,\n",
       "  'USDLTL': 2.95274,\n",
       "  'USDLVL': 0.60489,\n",
       "  'USDLYD': 1.369205,\n",
       "  'USDMAD': 9.222949,\n",
       "  'USDMDL': 16.599411,\n",
       "  'USDMGA': 3853.268601,\n",
       "  'USDMKD': 52.200618,\n",
       "  'USDMMK': 1338.766602,\n",
       "  'USDMNT': 2854.030051,\n",
       "  'USDMOP': 7.983801,\n",
       "  'USDMRO': 357.000149,\n",
       "  'USDMUR': 39.749818,\n",
       "  'USDMVR': 15.410128,\n",
       "  'USDMWK': 750.084703,\n",
       "  'USDMXN': 22.13863,\n",
       "  'USDMYR': 4.172497,\n",
       "  'USDMZN': 71.509665,\n",
       "  'USDNAD': 17.350305,\n",
       "  'USDNGN': 386.719799,\n",
       "  'USDNIO': 34.882066,\n",
       "  'USDNOK': 8.90889,\n",
       "  'USDNPR': 118.06829,\n",
       "  'USDNZD': 1.505025,\n",
       "  'USDOMR': 0.385016,\n",
       "  'USDPAB': 1.000097,\n",
       "  'USDPEN': 3.571653,\n",
       "  'USDPGK': 3.531814,\n",
       "  'USDPHP': 48.615041,\n",
       "  'USDPKR': 167.38475,\n",
       "  'USDPLN': 3.73185,\n",
       "  'USDPYG': 6984.045977,\n",
       "  'USDQAR': 3.640973,\n",
       "  'USDRON': 4.095399,\n",
       "  'USDRSD': 99.610451,\n",
       "  'USDRUB': 75.019098,\n",
       "  'USDRWF': 966.9458,\n",
       "  'USDSAR': 3.750497,\n",
       "  'USDSBD': 8.265569,\n",
       "  'USDSCR': 17.880257,\n",
       "  'USDSDG': 55.305112,\n",
       "  'USDSEK': 8.72629,\n",
       "  'USDSGD': 1.36586,\n",
       "  'USDSHP': 0.757578,\n",
       "  'USDSLL': 9762.502233,\n",
       "  'USDSOS': 582.496843,\n",
       "  'USDSRD': 7.457984,\n",
       "  'USDSTD': 21292.767074,\n",
       "  'USDSVC': 8.750534,\n",
       "  'USDSYP': 511.504761,\n",
       "  'USDSZL': 16.943658,\n",
       "  'USDTHB': 31.2995,\n",
       "  'USDTJS': 10.319399,\n",
       "  'USDTMT': 3.51,\n",
       "  'USDTND': 2.727496,\n",
       "  'USDTOP': 2.27875,\n",
       "  'USDTRY': 7.357604,\n",
       "  'USDTTD': 6.77847,\n",
       "  'USDTWD': 29.338199,\n",
       "  'USDTZS': 2320.483963,\n",
       "  'USDUAH': 27.495657,\n",
       "  'USDUGX': 3683.715502,\n",
       "  'USDUSD': 1,\n",
       "  'USDUYU': 42.802921,\n",
       "  'USDUZS': 10282.875976,\n",
       "  'USDVEF': 9.9875,\n",
       "  'USDVND': 23175,\n",
       "  'USDVUV': 113.204312,\n",
       "  'USDWST': 2.605211,\n",
       "  'USDXAF': 555.73799,\n",
       "  'USDXAG': 0.037093,\n",
       "  'USDXAU': 0.000519,\n",
       "  'USDXCD': 2.70255,\n",
       "  'USDXDR': 0.708289,\n",
       "  'USDXOF': 555.73328,\n",
       "  'USDXPF': 100.879026,\n",
       "  'USDYER': 250.349896,\n",
       "  'USDZAR': 17.049695,\n",
       "  'USDZMK': 9001.200902,\n",
       "  'USDZMW': 19.378651,\n",
       "  'USDZWL': 322.000109}}"
      ]
     },
     "execution_count": 215,
     "metadata": {},
     "output_type": "execute_result"
    }
   ],
   "source": [
    "params = {\n",
    "  'access_key': 'd55d57ff0d2c79990689e03ea82691d8',\n",
    "#  'from':'USD',\n",
    "#  'to':'GBP',\n",
    "  'date':'2020-08-27'\n",
    "}\n",
    "api_result=requests.get('http://api.currencylayer.com/historical', params)\n",
    "api_result.json()"
   ]
  },
  {
   "cell_type": "code",
   "execution_count": 255,
   "metadata": {},
   "outputs": [
    {
     "data": {
      "text/html": [
       "<div>\n",
       "<style scoped>\n",
       "    .dataframe tbody tr th:only-of-type {\n",
       "        vertical-align: middle;\n",
       "    }\n",
       "\n",
       "    .dataframe tbody tr th {\n",
       "        vertical-align: top;\n",
       "    }\n",
       "\n",
       "    .dataframe thead th {\n",
       "        text-align: right;\n",
       "    }\n",
       "</style>\n",
       "<table border=\"1\" class=\"dataframe\">\n",
       "  <thead>\n",
       "    <tr style=\"text-align: right;\">\n",
       "      <th></th>\n",
       "      <th>Date</th>\n",
       "      <th>Lloyds_Close</th>\n",
       "    </tr>\n",
       "  </thead>\n",
       "  <tbody>\n",
       "    <tr>\n",
       "      <th>2871</th>\n",
       "      <td>21/08/2020</td>\n",
       "      <td>28.100</td>\n",
       "    </tr>\n",
       "    <tr>\n",
       "      <th>2872</th>\n",
       "      <td>24/08/2020</td>\n",
       "      <td>28.600</td>\n",
       "    </tr>\n",
       "    <tr>\n",
       "      <th>2873</th>\n",
       "      <td>25/08/2020</td>\n",
       "      <td>28.200</td>\n",
       "    </tr>\n",
       "    <tr>\n",
       "      <th>2874</th>\n",
       "      <td>26/08/2020</td>\n",
       "      <td>28.475</td>\n",
       "    </tr>\n",
       "    <tr>\n",
       "      <th>2875</th>\n",
       "      <td>27/08/2020</td>\n",
       "      <td>28.200</td>\n",
       "    </tr>\n",
       "  </tbody>\n",
       "</table>\n",
       "</div>"
      ],
      "text/plain": [
       "            Date  Lloyds_Close\n",
       "2871  21/08/2020        28.100\n",
       "2872  24/08/2020        28.600\n",
       "2873  25/08/2020        28.200\n",
       "2874  26/08/2020        28.475\n",
       "2875  27/08/2020        28.200"
      ]
     },
     "execution_count": 255,
     "metadata": {},
     "output_type": "execute_result"
    }
   ],
   "source": [
    "model_data=pd.read_csv('model_data.csv')\n",
    "model_data.tail()"
   ]
  },
  {
   "cell_type": "code",
   "execution_count": 256,
   "metadata": {},
   "outputs": [
    {
     "data": {
      "text/html": [
       "<div>\n",
       "<style scoped>\n",
       "    .dataframe tbody tr th:only-of-type {\n",
       "        vertical-align: middle;\n",
       "    }\n",
       "\n",
       "    .dataframe tbody tr th {\n",
       "        vertical-align: top;\n",
       "    }\n",
       "\n",
       "    .dataframe thead th {\n",
       "        text-align: right;\n",
       "    }\n",
       "</style>\n",
       "<table border=\"1\" class=\"dataframe\">\n",
       "  <thead>\n",
       "    <tr style=\"text-align: right;\">\n",
       "      <th></th>\n",
       "      <th>Date</th>\n",
       "      <th>Lloyds_Close</th>\n",
       "    </tr>\n",
       "  </thead>\n",
       "  <tbody>\n",
       "    <tr>\n",
       "      <th>2872</th>\n",
       "      <td>24/08/2020</td>\n",
       "      <td>28.6</td>\n",
       "    </tr>\n",
       "    <tr>\n",
       "      <th>2873</th>\n",
       "      <td>25/08/2020</td>\n",
       "      <td>28.2</td>\n",
       "    </tr>\n",
       "    <tr>\n",
       "      <th>2874</th>\n",
       "      <td>26/08/2020</td>\n",
       "      <td>28.475</td>\n",
       "    </tr>\n",
       "    <tr>\n",
       "      <th>2875</th>\n",
       "      <td>27/08/2020</td>\n",
       "      <td>28.2</td>\n",
       "    </tr>\n",
       "    <tr>\n",
       "      <th>2876</th>\n",
       "      <td>2009-03-04</td>\n",
       "      <td>55.6</td>\n",
       "    </tr>\n",
       "  </tbody>\n",
       "</table>\n",
       "</div>"
      ],
      "text/plain": [
       "            Date Lloyds_Close\n",
       "2872  24/08/2020         28.6\n",
       "2873  25/08/2020         28.2\n",
       "2874  26/08/2020       28.475\n",
       "2875  27/08/2020         28.2\n",
       "2876  2009-03-04         55.6"
      ]
     },
     "execution_count": 256,
     "metadata": {},
     "output_type": "execute_result"
    }
   ],
   "source": [
    "record_dict={'Date':'2009-03-04',\n",
    "             'Lloyds_Close':'55.6'}\n",
    "model_data=model_data.append(record_dict,ignore_index=True)\n",
    "model_data.tail()"
   ]
  },
  {
   "cell_type": "code",
   "execution_count": 257,
   "metadata": {},
   "outputs": [
    {
     "data": {
      "text/plain": [
       "['2020', '02', '04']"
      ]
     },
     "execution_count": 257,
     "metadata": {},
     "output_type": "execute_result"
    }
   ],
   "source": [
    "a='2020-02-04'\n",
    "a.split('-')"
   ]
  },
  {
   "cell_type": "code",
   "execution_count": 258,
   "metadata": {},
   "outputs": [],
   "source": [
    "import pandas_market_calendars as mcal"
   ]
  },
  {
   "cell_type": "code",
   "execution_count": 262,
   "metadata": {},
   "outputs": [],
   "source": [
    "LSE = mcal.get_calendar('LSE')\n",
    "start_date_str='2020-08-28'\n",
    "a=LSE.valid_days(start_date=start_date_str, end_date='2020-12-31')[:20]\n",
    "next_day=a[1].strftime('%d/%m/%Y')"
   ]
  },
  {
   "cell_type": "code",
   "execution_count": 263,
   "metadata": {},
   "outputs": [
    {
     "data": {
      "text/plain": [
       "'01/09/2020'"
      ]
     },
     "execution_count": 263,
     "metadata": {},
     "output_type": "execute_result"
    }
   ],
   "source": [
    "next_day"
   ]
  },
  {
   "cell_type": "code",
   "execution_count": 321,
   "metadata": {},
   "outputs": [],
   "source": [
    "data=pd.read_csv('model_data.csv')"
   ]
  },
  {
   "cell_type": "code",
   "execution_count": 322,
   "metadata": {},
   "outputs": [
    {
     "data": {
      "text/html": [
       "<div>\n",
       "<style scoped>\n",
       "    .dataframe tbody tr th:only-of-type {\n",
       "        vertical-align: middle;\n",
       "    }\n",
       "\n",
       "    .dataframe tbody tr th {\n",
       "        vertical-align: top;\n",
       "    }\n",
       "\n",
       "    .dataframe thead th {\n",
       "        text-align: right;\n",
       "    }\n",
       "</style>\n",
       "<table border=\"1\" class=\"dataframe\">\n",
       "  <thead>\n",
       "    <tr style=\"text-align: right;\">\n",
       "      <th></th>\n",
       "      <th>Date</th>\n",
       "      <th>Lloyds_Close</th>\n",
       "    </tr>\n",
       "  </thead>\n",
       "  <tbody>\n",
       "    <tr>\n",
       "      <th>2873</th>\n",
       "      <td>25/08/2020</td>\n",
       "      <td>28.2</td>\n",
       "    </tr>\n",
       "    <tr>\n",
       "      <th>2874</th>\n",
       "      <td>26/08/2020</td>\n",
       "      <td>28.475</td>\n",
       "    </tr>\n",
       "    <tr>\n",
       "      <th>2875</th>\n",
       "      <td>27/08/2020</td>\n",
       "      <td>28.2</td>\n",
       "    </tr>\n",
       "    <tr>\n",
       "      <th>2876</th>\n",
       "      <td>28/08/2020</td>\n",
       "      <td>28.35</td>\n",
       "    </tr>\n",
       "    <tr>\n",
       "      <th>2877</th>\n",
       "      <td>01/09/2020</td>\n",
       "      <td></td>\n",
       "    </tr>\n",
       "  </tbody>\n",
       "</table>\n",
       "</div>"
      ],
      "text/plain": [
       "            Date Lloyds_Close\n",
       "2873  25/08/2020         28.2\n",
       "2874  26/08/2020       28.475\n",
       "2875  27/08/2020         28.2\n",
       "2876  28/08/2020        28.35\n",
       "2877  01/09/2020             "
      ]
     },
     "execution_count": 322,
     "metadata": {},
     "output_type": "execute_result"
    }
   ],
   "source": [
    "data.tail()"
   ]
  },
  {
   "cell_type": "code",
   "execution_count": 316,
   "metadata": {},
   "outputs": [
    {
     "data": {
      "text/plain": [
       "'28/08/2020'"
      ]
     },
     "execution_count": 316,
     "metadata": {},
     "output_type": "execute_result"
    }
   ],
   "source": [
    "data[-2:-1][:]['Date'].values[0]"
   ]
  },
  {
   "cell_type": "code",
   "execution_count": 308,
   "metadata": {},
   "outputs": [],
   "source": [
    "data=data[:-1][:]['Date']"
   ]
  },
  {
   "cell_type": "code",
   "execution_count": 309,
   "metadata": {},
   "outputs": [
    {
     "data": {
      "text/plain": [
       "0       03/03/2009\n",
       "1       04/03/2009\n",
       "2       05/03/2009\n",
       "3       06/03/2009\n",
       "4       09/03/2009\n",
       "           ...    \n",
       "2872    24/08/2020\n",
       "2873    25/08/2020\n",
       "2874    26/08/2020\n",
       "2875    27/08/2020\n",
       "2876    28/08/2020\n",
       "Name: Date, Length: 2877, dtype: object"
      ]
     },
     "execution_count": 309,
     "metadata": {},
     "output_type": "execute_result"
    }
   ],
   "source": [
    "data"
   ]
  },
  {
   "cell_type": "code",
   "execution_count": 284,
   "metadata": {},
   "outputs": [
    {
     "data": {
      "text/plain": [
       "Date            object\n",
       "Lloyds_Close    object\n",
       "dtype: object"
      ]
     },
     "execution_count": 284,
     "metadata": {},
     "output_type": "execute_result"
    }
   ],
   "source": [
    "data.dtypes"
   ]
  },
  {
   "cell_type": "code",
   "execution_count": 285,
   "metadata": {},
   "outputs": [
    {
     "data": {
      "text/html": [
       "<div>\n",
       "<style scoped>\n",
       "    .dataframe tbody tr th:only-of-type {\n",
       "        vertical-align: middle;\n",
       "    }\n",
       "\n",
       "    .dataframe tbody tr th {\n",
       "        vertical-align: top;\n",
       "    }\n",
       "\n",
       "    .dataframe thead th {\n",
       "        text-align: right;\n",
       "    }\n",
       "</style>\n",
       "<table border=\"1\" class=\"dataframe\">\n",
       "  <thead>\n",
       "    <tr style=\"text-align: right;\">\n",
       "      <th></th>\n",
       "      <th>Date</th>\n",
       "      <th>Lloyds_Close</th>\n",
       "    </tr>\n",
       "  </thead>\n",
       "  <tbody>\n",
       "    <tr>\n",
       "      <th>0</th>\n",
       "      <td>03/03/2009</td>\n",
       "      <td>45.5</td>\n",
       "    </tr>\n",
       "    <tr>\n",
       "      <th>1</th>\n",
       "      <td>04/03/2009</td>\n",
       "      <td>47.7</td>\n",
       "    </tr>\n",
       "    <tr>\n",
       "      <th>2</th>\n",
       "      <td>05/03/2009</td>\n",
       "      <td>39.32</td>\n",
       "    </tr>\n",
       "    <tr>\n",
       "      <th>3</th>\n",
       "      <td>06/03/2009</td>\n",
       "      <td>42.0</td>\n",
       "    </tr>\n",
       "    <tr>\n",
       "      <th>4</th>\n",
       "      <td>09/03/2009</td>\n",
       "      <td>43.7</td>\n",
       "    </tr>\n",
       "  </tbody>\n",
       "</table>\n",
       "</div>"
      ],
      "text/plain": [
       "         Date Lloyds_Close\n",
       "0  03/03/2009         45.5\n",
       "1  04/03/2009         47.7\n",
       "2  05/03/2009        39.32\n",
       "3  06/03/2009         42.0\n",
       "4  09/03/2009         43.7"
      ]
     },
     "execution_count": 285,
     "metadata": {},
     "output_type": "execute_result"
    }
   ],
   "source": [
    "data.head(5)"
   ]
  },
  {
   "cell_type": "code",
   "execution_count": 286,
   "metadata": {},
   "outputs": [],
   "source": [
    "data['Date']=data['Date'].apply(lambda x: x.split('/')[2]+'-'+x.split('/')[1]+'-'+x.split('/')[0])"
   ]
  },
  {
   "cell_type": "code",
   "execution_count": 298,
   "metadata": {},
   "outputs": [
    {
     "data": {
      "text/html": [
       "<div>\n",
       "<style scoped>\n",
       "    .dataframe tbody tr th:only-of-type {\n",
       "        vertical-align: middle;\n",
       "    }\n",
       "\n",
       "    .dataframe tbody tr th {\n",
       "        vertical-align: top;\n",
       "    }\n",
       "\n",
       "    .dataframe thead th {\n",
       "        text-align: right;\n",
       "    }\n",
       "</style>\n",
       "<table border=\"1\" class=\"dataframe\">\n",
       "  <thead>\n",
       "    <tr style=\"text-align: right;\">\n",
       "      <th></th>\n",
       "      <th>Date</th>\n",
       "      <th>Lloyds_Close</th>\n",
       "    </tr>\n",
       "  </thead>\n",
       "  <tbody>\n",
       "    <tr>\n",
       "      <th>2872</th>\n",
       "      <td>2020-08-24</td>\n",
       "      <td>28.6</td>\n",
       "    </tr>\n",
       "    <tr>\n",
       "      <th>2873</th>\n",
       "      <td>2020-08-25</td>\n",
       "      <td>28.2</td>\n",
       "    </tr>\n",
       "    <tr>\n",
       "      <th>2874</th>\n",
       "      <td>2020-08-26</td>\n",
       "      <td>28.475</td>\n",
       "    </tr>\n",
       "    <tr>\n",
       "      <th>2875</th>\n",
       "      <td>2020-08-27</td>\n",
       "      <td>28.2</td>\n",
       "    </tr>\n",
       "    <tr>\n",
       "      <th>2876</th>\n",
       "      <td>2020-08-28</td>\n",
       "      <td>28.35</td>\n",
       "    </tr>\n",
       "  </tbody>\n",
       "</table>\n",
       "</div>"
      ],
      "text/plain": [
       "           Date Lloyds_Close\n",
       "2872 2020-08-24         28.6\n",
       "2873 2020-08-25         28.2\n",
       "2874 2020-08-26       28.475\n",
       "2875 2020-08-27         28.2\n",
       "2876 2020-08-28        28.35"
      ]
     },
     "execution_count": 298,
     "metadata": {},
     "output_type": "execute_result"
    }
   ],
   "source": [
    "data.tail(5)"
   ]
  },
  {
   "cell_type": "code",
   "execution_count": 288,
   "metadata": {},
   "outputs": [],
   "source": [
    "data['Date']=pd.to_datetime(data['Date'])"
   ]
  },
  {
   "cell_type": "code",
   "execution_count": 297,
   "metadata": {},
   "outputs": [
    {
     "data": {
      "text/html": [
       "<div>\n",
       "<style scoped>\n",
       "    .dataframe tbody tr th:only-of-type {\n",
       "        vertical-align: middle;\n",
       "    }\n",
       "\n",
       "    .dataframe tbody tr th {\n",
       "        vertical-align: top;\n",
       "    }\n",
       "\n",
       "    .dataframe thead th {\n",
       "        text-align: right;\n",
       "    }\n",
       "</style>\n",
       "<table border=\"1\" class=\"dataframe\">\n",
       "  <thead>\n",
       "    <tr style=\"text-align: right;\">\n",
       "      <th></th>\n",
       "      <th>Date</th>\n",
       "      <th>Lloyds_Close</th>\n",
       "    </tr>\n",
       "  </thead>\n",
       "  <tbody>\n",
       "    <tr>\n",
       "      <th>2874</th>\n",
       "      <td>2020-08-26</td>\n",
       "      <td>28.475</td>\n",
       "    </tr>\n",
       "    <tr>\n",
       "      <th>2875</th>\n",
       "      <td>2020-08-27</td>\n",
       "      <td>28.2</td>\n",
       "    </tr>\n",
       "    <tr>\n",
       "      <th>2876</th>\n",
       "      <td>2020-08-28</td>\n",
       "      <td>28.35</td>\n",
       "    </tr>\n",
       "  </tbody>\n",
       "</table>\n",
       "</div>"
      ],
      "text/plain": [
       "           Date Lloyds_Close\n",
       "2874 2020-08-26       28.475\n",
       "2875 2020-08-27         28.2\n",
       "2876 2020-08-28        28.35"
      ]
     },
     "execution_count": 297,
     "metadata": {},
     "output_type": "execute_result"
    }
   ],
   "source": [
    "data[-3:][:]"
   ]
  },
  {
   "cell_type": "code",
   "execution_count": 319,
   "metadata": {},
   "outputs": [],
   "source": [
    "preds=np.load('predictions_dump.npy')"
   ]
  },
  {
   "cell_type": "code",
   "execution_count": 320,
   "metadata": {},
   "outputs": [
    {
     "data": {
      "text/plain": [
       "array([29.00961373, 29.03863194, 29.02498553, 29.01431446, 29.00987747,\n",
       "       29.0052206 , 28.99966014, 28.99410113, 28.98867214, 28.98324726,\n",
       "       28.97780378])"
      ]
     },
     "execution_count": 320,
     "metadata": {},
     "output_type": "execute_result"
    }
   ],
   "source": [
    "preds"
   ]
  },
  {
   "cell_type": "code",
   "execution_count": 323,
   "metadata": {},
   "outputs": [],
   "source": [
    "dates=data.tail(11)['Date'].values"
   ]
  },
  {
   "cell_type": "code",
   "execution_count": 324,
   "metadata": {},
   "outputs": [
    {
     "data": {
      "text/plain": [
       "array(['17/08/2020', '18/08/2020', '19/08/2020', '20/08/2020',\n",
       "       '21/08/2020', '24/08/2020', '25/08/2020', '26/08/2020',\n",
       "       '27/08/2020', '28/08/2020', '01/09/2020'], dtype=object)"
      ]
     },
     "execution_count": 324,
     "metadata": {},
     "output_type": "execute_result"
    }
   ],
   "source": [
    "dates"
   ]
  },
  {
   "cell_type": "code",
   "execution_count": null,
   "metadata": {},
   "outputs": [],
   "source": []
  }
 ],
 "metadata": {
  "kernelspec": {
   "display_name": "Python 3",
   "language": "python",
   "name": "python3"
  },
  "language_info": {
   "codemirror_mode": {
    "name": "ipython",
    "version": 3
   },
   "file_extension": ".py",
   "mimetype": "text/x-python",
   "name": "python",
   "nbconvert_exporter": "python",
   "pygments_lexer": "ipython3",
   "version": "3.6.8"
  }
 },
 "nbformat": 4,
 "nbformat_minor": 2
}
